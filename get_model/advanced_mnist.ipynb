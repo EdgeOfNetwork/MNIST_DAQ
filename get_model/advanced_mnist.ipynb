{
 "cells": [
  {
   "cell_type": "markdown",
   "metadata": {
    "colab_type": "text",
    "id": "Tce3stUlHN0L"
   },
   "source": [
    "##### Copyright 2019 The TensorFlow Authors.\n",
    "##### Copyright 2020 The creApple Authors."
   ]
  },
  {
   "cell_type": "code",
   "execution_count": 1,
   "metadata": {
    "cellView": "form",
    "colab": {},
    "colab_type": "code",
    "id": "tuOe1ymfHZPu"
   },
   "outputs": [],
   "source": [
    "#@title Licensed under the Apache License, Version 2.0 (the \"License\");\n",
    "# you may not use this file except in compliance with the License.\n",
    "# You may obtain a copy of the License at\n",
    "#\n",
    "# https://www.apache.org/licenses/LICENSE-2.0\n",
    "#\n",
    "# Unless required by applicable law or agreed to in writing, software\n",
    "# distributed under the License is distributed on an \"AS IS\" BASIS,\n",
    "# WITHOUT WARRANTIES OR CONDITIONS OF ANY KIND, either express or implied.\n",
    "# See the License for the specific language governing permissions and\n",
    "# limitations under the License."
   ]
  },
  {
   "cell_type": "markdown",
   "metadata": {
    "colab_type": "text",
    "id": "xHxb-dlhMIzW"
   },
   "source": [
    "## Overview\n",
    "\n",
    "This notebook shows an end-to-end example of training a TensorFlow model using Keras and Python, then export it to TensorFlow and TensorFlow Lite format. Here we will train a handwritten digit classifier using MNIST dataset.\n"
   ]
  },
  {
   "cell_type": "markdown",
   "metadata": {
    "colab_type": "text",
    "id": "wjYoq4VgM9lU"
   },
   "source": [
    "## Enabling the Tensorflow with GPU\n",
    "\n",
    "First, you'll need to enable GPUs for the notebook:\n",
    "\n",
    "- Navigate to Edit→Notebook Settings\n",
    "- select GPU from the Hardware Accelerator drop-down\n",
    "\n",
    "Next, we'll confirm that we can connect to the GPU with tensorflow:"
   ]
  },
  {
   "cell_type": "code",
   "execution_count": 2,
   "metadata": {
    "colab": {},
    "colab_type": "code",
    "id": "Gwj7bEg3MssB"
   },
   "outputs": [
    {
     "name": "stdout",
     "output_type": "stream",
     "text": [
      "Collecting tensorflow-gpu\n",
      "  Downloading tensorflow_gpu-2.3.1-cp37-cp37m-win_amd64.whl (344.2 MB)\n",
      "Requirement already satisfied: h5py<2.11.0,>=2.10.0 in c:\\users\\gaeasoft\\anaconda3\\lib\\site-packages (from tensorflow-gpu) (2.10.0)\n",
      "Requirement already satisfied: wheel>=0.26 in c:\\users\\gaeasoft\\anaconda3\\lib\\site-packages (from tensorflow-gpu) (0.33.1)\n",
      "Requirement already satisfied: termcolor>=1.1.0 in c:\\users\\gaeasoft\\anaconda3\\lib\\site-packages (from tensorflow-gpu) (1.1.0)\n",
      "Requirement already satisfied: keras-preprocessing<1.2,>=1.1.1 in c:\\users\\gaeasoft\\anaconda3\\lib\\site-packages (from tensorflow-gpu) (1.1.2)\n",
      "Requirement already satisfied: astunparse==1.6.3 in c:\\users\\gaeasoft\\appdata\\roaming\\python\\python37\\site-packages (from tensorflow-gpu) (1.6.3)\n",
      "Requirement already satisfied: absl-py>=0.7.0 in c:\\users\\gaeasoft\\anaconda3\\lib\\site-packages (from tensorflow-gpu) (0.7.0)\n",
      "Requirement already satisfied: gast==0.3.3 in c:\\users\\gaeasoft\\anaconda3\\lib\\site-packages (from tensorflow-gpu) (0.3.3)\n",
      "Requirement already satisfied: numpy<1.19.0,>=1.16.0 in c:\\users\\gaeasoft\\anaconda3\\lib\\site-packages (from tensorflow-gpu) (1.16.1)\n",
      "Requirement already satisfied: six>=1.12.0 in c:\\users\\gaeasoft\\anaconda3\\lib\\site-packages (from tensorflow-gpu) (1.15.0)\n",
      "Requirement already satisfied: opt-einsum>=2.3.2 in c:\\users\\gaeasoft\\appdata\\roaming\\python\\python37\\site-packages (from tensorflow-gpu) (3.3.0)\n",
      "Requirement already satisfied: tensorboard<3,>=2.3.0 in c:\\users\\gaeasoft\\anaconda3\\lib\\site-packages (from tensorflow-gpu) (2.4.0)\n",
      "Requirement already satisfied: protobuf>=3.9.2 in c:\\users\\gaeasoft\\anaconda3\\lib\\site-packages (from tensorflow-gpu) (3.14.0)\n",
      "Requirement already satisfied: wrapt>=1.11.1 in c:\\users\\gaeasoft\\anaconda3\\lib\\site-packages (from tensorflow-gpu) (1.11.1)\n",
      "Requirement already satisfied: grpcio>=1.8.6 in c:\\users\\gaeasoft\\anaconda3\\lib\\site-packages (from tensorflow-gpu) (1.18.0)\n",
      "Requirement already satisfied: google-pasta>=0.1.8 in c:\\users\\gaeasoft\\anaconda3\\lib\\site-packages (from tensorflow-gpu) (0.2.0)\n",
      "Collecting tensorflow-gpu-estimator<2.4.0,>=2.3.0\n",
      "  Downloading tensorflow_gpu_estimator-2.3.0-py2.py3-none-any.whl (474 kB)\n",
      "Requirement already satisfied: google-auth-oauthlib<0.5,>=0.4.1 in c:\\users\\gaeasoft\\anaconda3\\lib\\site-packages (from tensorboard<3,>=2.3.0->tensorflow-gpu) (0.4.1)\n",
      "Requirement already satisfied: setuptools>=41.0.0 in c:\\users\\gaeasoft\\anaconda3\\lib\\site-packages (from tensorboard<3,>=2.3.0->tensorflow-gpu) (50.3.0)\n",
      "Requirement already satisfied: werkzeug>=0.11.15 in c:\\users\\gaeasoft\\anaconda3\\lib\\site-packages (from tensorboard<3,>=2.3.0->tensorflow-gpu) (0.14.1)\n",
      "Requirement already satisfied: tensorboard-plugin-wit>=1.6.0 in c:\\users\\gaeasoft\\anaconda3\\lib\\site-packages (from tensorboard<3,>=2.3.0->tensorflow-gpu) (1.7.0)\n",
      "Requirement already satisfied: markdown>=2.6.8 in c:\\users\\gaeasoft\\appdata\\roaming\\python\\python37\\site-packages (from tensorboard<3,>=2.3.0->tensorflow-gpu) (3.0.1)\n",
      "Requirement already satisfied: requests<3,>=2.21.0 in c:\\users\\gaeasoft\\anaconda3\\lib\\site-packages (from tensorboard<3,>=2.3.0->tensorflow-gpu) (2.21.0)\n",
      "Requirement already satisfied: google-auth<2,>=1.6.3 in c:\\users\\gaeasoft\\anaconda3\\lib\\site-packages (from tensorboard<3,>=2.3.0->tensorflow-gpu) (1.22.1)\n",
      "Requirement already satisfied: requests-oauthlib>=0.7.0 in c:\\users\\gaeasoft\\anaconda3\\lib\\site-packages (from google-auth-oauthlib<0.5,>=0.4.1->tensorboard<3,>=2.3.0->tensorflow-gpu) (1.3.0)\n",
      "Requirement already satisfied: idna<2.9,>=2.5 in c:\\users\\gaeasoft\\anaconda3\\lib\\site-packages (from requests<3,>=2.21.0->tensorboard<3,>=2.3.0->tensorflow-gpu) (2.8)\n",
      "Requirement already satisfied: chardet<3.1.0,>=3.0.2 in c:\\users\\gaeasoft\\anaconda3\\lib\\site-packages (from requests<3,>=2.21.0->tensorboard<3,>=2.3.0->tensorflow-gpu) (3.0.4)\n",
      "Requirement already satisfied: urllib3<1.25,>=1.21.1 in c:\\users\\gaeasoft\\anaconda3\\lib\\site-packages (from requests<3,>=2.21.0->tensorboard<3,>=2.3.0->tensorflow-gpu) (1.24.1)\n",
      "Requirement already satisfied: certifi>=2017.4.17 in c:\\users\\gaeasoft\\anaconda3\\lib\\site-packages (from requests<3,>=2.21.0->tensorboard<3,>=2.3.0->tensorflow-gpu) (2020.6.20)\n",
      "Requirement already satisfied: rsa<5,>=3.1.4; python_version >= \"3.5\" in c:\\users\\gaeasoft\\anaconda3\\lib\\site-packages (from google-auth<2,>=1.6.3->tensorboard<3,>=2.3.0->tensorflow-gpu) (4.6)\n",
      "Requirement already satisfied: cachetools<5.0,>=2.0.0 in c:\\users\\gaeasoft\\anaconda3\\lib\\site-packages (from google-auth<2,>=1.6.3->tensorboard<3,>=2.3.0->tensorflow-gpu) (4.1.1)\n",
      "Requirement already satisfied: pyasn1-modules>=0.2.1 in c:\\users\\gaeasoft\\anaconda3\\lib\\site-packages (from google-auth<2,>=1.6.3->tensorboard<3,>=2.3.0->tensorflow-gpu) (0.2.8)\n",
      "Requirement already satisfied: oauthlib>=3.0.0 in c:\\users\\gaeasoft\\anaconda3\\lib\\site-packages (from requests-oauthlib>=0.7.0->google-auth-oauthlib<0.5,>=0.4.1->tensorboard<3,>=2.3.0->tensorflow-gpu) (3.1.0)\n",
      "Requirement already satisfied: pyasn1>=0.1.3 in c:\\users\\gaeasoft\\anaconda3\\lib\\site-packages (from rsa<5,>=3.1.4; python_version >= \"3.5\"->google-auth<2,>=1.6.3->tensorboard<3,>=2.3.0->tensorflow-gpu) (0.4.8)\n",
      "Installing collected packages: tensorflow-gpu-estimator, tensorflow-gpu\n"
     ]
    },
    {
     "name": "stderr",
     "output_type": "stream",
     "text": [
      "ERROR: Could not install packages due to an EnvironmentError: [WinError 5] 액세스가 거부되었습니다: 'c:\\\\users\\\\gaeasoft\\\\anaconda3\\\\Lib\\\\site-packages\\\\tensorflow\\\\lite\\\\experimental\\\\microfrontend\\\\python\\\\ops\\\\_audio_microfrontend_op.so'\n",
      "Consider using the `--user` option or check the permissions.\n",
      "\n"
     ]
    }
   ],
   "source": [
    "!pip install tensorflow-gpu"
   ]
  },
  {
   "cell_type": "code",
   "execution_count": 3,
   "metadata": {
    "colab": {
     "base_uri": "https://localhost:8080/",
     "height": 51
    },
    "colab_type": "code",
    "executionInfo": {
     "elapsed": 9975,
     "status": "ok",
     "timestamp": 1588638680864,
     "user": {
      "displayName": "노마드 크리에이터 Nomad Creator",
      "photoUrl": "https://lh3.googleusercontent.com/a-/AOh14GgQcI_wi3EMgN-CKlfzb5uFCxPbA1MdJ7VSb-zzTA=s64",
      "userId": "11787836200577686573"
     },
     "user_tz": -480
    },
    "id": "UotPsvQjNBYJ",
    "outputId": "38879d71-075c-4238-adeb-98e6b4a0a8ef"
   },
   "outputs": [
    {
     "name": "stderr",
     "output_type": "stream",
     "text": [
      "UsageError: Line magic function `%tensorflow_version` not found.\n"
     ]
    }
   ],
   "source": [
    "%tensorflow_version 2.x\n",
    "import tensorflow as tf\n",
    "device_name = tf.test.gpu_device_name()\n",
    "if device_name != '/device:GPU:0':\n",
    "  raise SystemError('GPU device not found')\n",
    "print('Found GPU at: {}'.format(device_name))\n",
    "print(tf.__version__)"
   ]
  },
  {
   "cell_type": "markdown",
   "metadata": {
    "colab_type": "text",
    "id": "MUXex9ctTuDB"
   },
   "source": [
    "## Setup"
   ]
  },
  {
   "cell_type": "code",
   "execution_count": 4,
   "metadata": {
    "colab": {},
    "colab_type": "code",
    "id": "kS_mq4yAlXHZ"
   },
   "outputs": [],
   "source": [
    "# TensorFlow and tf.keras\n",
    "import tensorflow as tf\n",
    "from tensorflow import keras\n",
    "\n",
    "# Helper libraries\n",
    "import numpy as np\n",
    "import matplotlib.pyplot as plt\n",
    "import math\n",
    "\n",
    "# Define Constants\n",
    "batch_size = 128\n",
    "num_classes = 10\n",
    "epochs = 100\n",
    "\n",
    "# Helper function to display digit images\n",
    "def show_sample(images, labels, sample_count=25):\n",
    "  # Create a square with can fit {sample_count} images\n",
    "  grid_count = math.ceil(math.ceil(math.sqrt(sample_count)))\n",
    "  grid_count = min(grid_count, len(images), len(labels))\n",
    "  \n",
    "  plt.figure(figsize=(2*grid_count, 2*grid_count))\n",
    "  for i in range(sample_count):\n",
    "    plt.subplot(grid_count, grid_count, i+1)\n",
    "    plt.xticks([])\n",
    "    plt.yticks([])\n",
    "    plt.grid(False)\n",
    "    plt.imshow(images[i], cmap=plt.cm.gray)\n",
    "    plt.xlabel(labels[i])\n",
    "  plt.show()\n",
    "\n",
    "# Helper function to display specific digit images\n",
    "def show_sample_digit(images, labels, digit, sample_count=25):\n",
    "  # Create a square with can fit {sample_count} images\n",
    "  grid_count = math.ceil(math.ceil(math.sqrt(sample_count)))\n",
    "  grid_count = min(grid_count, len(images), len(labels))\n",
    "  \n",
    "  plt.figure(figsize=(2*grid_count, 2*grid_count))\n",
    "  i = 0\n",
    "  digit_count = 0\n",
    "  while digit_count < sample_count:\n",
    "    i += 1\n",
    "    if (digit == labels[i]):\n",
    "      plt.subplot(grid_count, grid_count, digit_count+1)\n",
    "      plt.xticks([])\n",
    "      plt.yticks([])\n",
    "      plt.grid(False)\n",
    "      plt.imshow(images[i], cmap=plt.cm.gray)\n",
    "      plt.xlabel(labels[i])\n",
    "      digit_count += 1\n",
    "  plt.show()\n",
    "\n",
    "# Helper function to display specific digit images\n",
    "def show_digit_image(image):\n",
    "  # Draw digit image\n",
    "  fig = plt.figure()\n",
    "  ax = fig.add_subplot(1, 1, 1)\n",
    "  # Major ticks every 20, minor ticks every 5\n",
    "  major_ticks = np.arange(0, 29, 5)\n",
    "  minor_ticks = np.arange(0, 29, 1)\n",
    "  ax.set_xticks(major_ticks)\n",
    "  ax.set_xticks(minor_ticks, minor=True)\n",
    "  ax.set_yticks(major_ticks)\n",
    "  ax.set_yticks(minor_ticks, minor=True)\n",
    "  # And a corresponding grid\n",
    "  ax.grid(which='both')\n",
    "  # Or if you want different settings for the grids:\n",
    "  ax.grid(which='minor', alpha=0.2)\n",
    "  ax.grid(which='major', alpha=0.5)\n",
    "  ax.imshow(image, cmap=plt.cm.binary)\n",
    "\n",
    "  plt.show()\n",
    "\n",
    "# Download the digit classification model if you're using Colab,\n",
    "# or print the model's local path if you're not using Colab.\n",
    "def download(path):\n",
    "  try:\n",
    "    from google.colab import files\n",
    "    files.download(path)\n",
    "  except ImportError:\n",
    "    import os\n",
    "    print('Error download:', os.path.join(os.getcwd(), path))"
   ]
  },
  {
   "cell_type": "markdown",
   "metadata": {
    "colab_type": "text",
    "id": "r0WlLrJcnwWp"
   },
   "source": [
    "## Download and explore the MNIST dataset\n",
    "The MNIST database contains 60,000 training images and 10,000 testing images of handwritten digits. We will use the dataset to demonstrate how to train a image classification model and convert it to TensorFlow Lite format.\n",
    "\n",
    "Each image in the MNIST dataset is a 28x28 grayscale image containing a digit.\n",
    "![MNIST sample](https://storage.googleapis.com/khanhlvg-public.appspot.com/digit-classifier/mnist.png)"
   ]
  },
  {
   "cell_type": "code",
   "execution_count": 5,
   "metadata": {
    "colab": {
     "base_uri": "https://localhost:8080/",
     "height": 51
    },
    "colab_type": "code",
    "executionInfo": {
     "elapsed": 1367,
     "status": "ok",
     "timestamp": 1588638940262,
     "user": {
      "displayName": "노마드 크리에이터 Nomad Creator",
      "photoUrl": "https://lh3.googleusercontent.com/a-/AOh14GgQcI_wi3EMgN-CKlfzb5uFCxPbA1MdJ7VSb-zzTA=s64",
      "userId": "11787836200577686573"
     },
     "user_tz": -480
    },
    "id": "B5REuMrblewK",
    "outputId": "8e8166aa-6153-431c-bdcb-f34bf777348d"
   },
   "outputs": [],
   "source": [
    "# Download MNIST dataset.\n",
    "mnist = keras.datasets.mnist\n",
    "(train_images, train_labels), (test_images, test_labels) = mnist.load_data()\n",
    "\n",
    "# If you can't download the MNIST dataset from Keras, please try again with an alternative method below\n",
    "# path = keras.utils.get_file('mnist.npz',\n",
    "#                             origin='https://s3.amazonaws.com/img-datasets/mnist.npz',\n",
    "#                             file_hash='8a61469f7ea1b51cbae51d4f78837e45')\n",
    "# with np.load(path, allow_pickle=True) as f:\n",
    "#   train_images, train_labels = f['x_train'], f['y_train']\n",
    "#   test_images, test_labels = f['x_test'], f['y_test']"
   ]
  },
  {
   "cell_type": "code",
   "execution_count": 6,
   "metadata": {
    "colab": {},
    "colab_type": "code",
    "id": "REY5lDDylpFh",
    "private_outputs": true,
    "toc_visible": true
   },
   "outputs": [],
   "source": [
    "# Normalize the input image so that each pixel value is between 0 to 1.\n",
    "train_images = train_images / 255.0\n",
    "test_images = test_images / 255.0\n",
    "\n",
    "# convert class vectors to binary class matrices\n",
    "#train_labels = keras.utils.to_categorical(train_labels, num_classes)\n",
    "#test_labels = keras.utils.to_categorical(test_labels, num_classes)"
   ]
  },
  {
   "cell_type": "code",
   "execution_count": 7,
   "metadata": {
    "colab": {
     "base_uri": "https://localhost:8080/",
     "height": 589
    },
    "colab_type": "code",
    "executionInfo": {
     "elapsed": 1536,
     "status": "ok",
     "timestamp": 1588639045043,
     "user": {
      "displayName": "노마드 크리에이터 Nomad Creator",
      "photoUrl": "https://lh3.googleusercontent.com/a-/AOh14GgQcI_wi3EMgN-CKlfzb5uFCxPbA1MdJ7VSb-zzTA=s64",
      "userId": "11787836200577686573"
     },
     "user_tz": -480
    },
    "id": "SAOE84IplyWR",
    "outputId": "64b53274-dae5-4605-8c29-946530ef03a1"
   },
   "outputs": [
    {
     "data": {
      "image/png": "[encoded data removed]",
      "text/plain": [
       "<Figure size 720x720 with 25 Axes>"
      ]
     },
     "metadata": {},
     "output_type": "display_data"
    }
   ],
   "source": [
    "# Show the first 25 images in the training dataset.\n",
    "show_sample(train_images, \n",
    "            ['Label: %s' % label for label in train_labels])"
   ]
  },
  {
   "cell_type": "code",
   "execution_count": 8,
   "metadata": {
    "colab": {
     "base_uri": "https://localhost:8080/",
     "height": 589
    },
    "colab_type": "code",
    "executionInfo": {
     "elapsed": 1631,
     "status": "ok",
     "timestamp": 1588639115303,
     "user": {
      "displayName": "노마드 크리에이터 Nomad Creator",
      "photoUrl": "https://lh3.googleusercontent.com/a-/AOh14GgQcI_wi3EMgN-CKlfzb5uFCxPbA1MdJ7VSb-zzTA=s64",
      "userId": "11787836200577686573"
     },
     "user_tz": -480
    },
    "id": "dPuTnp6wSI_Y",
    "outputId": "186c8c5f-02bf-493e-f174-804933d99142"
   },
   "outputs": [
    {
     "data": {
      "image/png": "[encoded data removed]",
      "text/plain": [
       "<Figure size 720x720 with 25 Axes>"
      ]
     },
     "metadata": {},
     "output_type": "display_data"
    }
   ],
   "source": [
    "# Show digit 7 the first 25 images in the training dataset.\n",
    "show_sample_digit(train_images, train_labels, 7)"
   ]
  },
  {
   "cell_type": "markdown",
   "metadata": {
    "colab_type": "text",
    "id": "9v-Wp3TxpLX6"
   },
   "source": [
    "## Train a TensorFlow model to classify digit images\n",
    "We use Keras API to build a TensorFlow model that can classify the digit images. Please see this [tutorial](https://www.tensorflow.org/beta/tutorials/keras/basic_classification) if you are interested to learn more about how to build machine learning model with Keras and TensorFlow."
   ]
  },
  {
   "cell_type": "code",
   "execution_count": 9,
   "metadata": {
    "colab": {},
    "colab_type": "code",
    "id": "IWgBGmaplzcp"
   },
   "outputs": [],
   "source": [
    "# Define the model architecture\n",
    "model = keras.Sequential([\n",
    "    keras.layers.Flatten(input_shape=(28, 28)),\n",
    "\n",
    "    # keras.layers.Dense(128, activation=tf.nn.relu),\n",
    "    keras.layers.Reshape(target_shape=(28, 28, 1)),\n",
    "    keras.layers.Conv2D(filters=32, kernel_size=(3, 3), activation=tf.nn.relu),\n",
    "    keras.layers.Conv2D(filters=64, kernel_size=(3, 3), activation=tf.nn.relu),\n",
    "    keras.layers.MaxPooling2D(pool_size=(2, 2)),\n",
    "    keras.layers.Dropout(0.25),\n",
    "    keras.layers.Flatten(input_shape=(28, 28)),\n",
    "    keras.layers.Dense(128, activation=tf.nn.relu),\n",
    "    keras.layers.Dropout(0.5),\n",
    "\n",
    "    keras.layers.Dense(10)\n",
    "])\n",
    "\n",
    "model.compile(optimizer='adam',\n",
    "              loss=tf.keras.losses.SparseCategoricalCrossentropy(from_logits=True),\n",
    "              metrics=['accuracy'])"
   ]
  },
  {
   "cell_type": "code",
   "execution_count": 10,
   "metadata": {
    "colab": {},
    "colab_type": "code",
    "id": "GsSk0nMEWucW"
   },
   "outputs": [],
   "source": [
    "# Save the best model as digits_model.h5\n",
    "modelCheckpoint = tf.keras.callbacks.ModelCheckpoint('advanced_digits_model.h5', save_best_only=True)\n",
    "\n",
    "# Define a callback to monitor val_loss\n",
    "monitorEarlyStop = tf.keras.callbacks.EarlyStopping(monitor='val_loss', \n",
    "                       patience=5)"
   ]
  },
  {
   "cell_type": "code",
   "execution_count": 11,
   "metadata": {
    "colab": {
     "base_uri": "https://localhost:8080/",
     "height": 1000
    },
    "colab_type": "code",
    "executionInfo": {
     "elapsed": 455155,
     "status": "ok",
     "timestamp": 1588640279192,
     "user": {
      "displayName": "노마드 크리에이터 Nomad Creator",
      "photoUrl": "https://lh3.googleusercontent.com/a-/AOh14GgQcI_wi3EMgN-CKlfzb5uFCxPbA1MdJ7VSb-zzTA=s64",
      "userId": "11787836200577686573"
     },
     "user_tz": -480
    },
    "id": "V6SOZuLRmEzS",
    "outputId": "f21abfbc-8a7e-46cf-ab0c-b3349809ac32"
   },
   "outputs": [
    {
     "name": "stdout",
     "output_type": "stream",
     "text": [
      "Epoch 1/100\n",
      "469/469 [==============================] - 92s 195ms/step - loss: 0.2398 - accuracy: 0.9268 - val_loss: 0.0523 - val_accuracy: 0.9818\n",
      "Epoch 2/100\n",
      "469/469 [==============================] - 90s 191ms/step - loss: 0.0852 - accuracy: 0.9743 - val_loss: 0.0411 - val_accuracy: 0.9862\n",
      "Epoch 3/100\n",
      "469/469 [==============================] - 84s 179ms/step - loss: 0.0643 - accuracy: 0.9798 - val_loss: 0.0329 - val_accuracy: 0.9889\n",
      "Epoch 4/100\n",
      "469/469 [==============================] - 87s 186ms/step - loss: 0.0534 - accuracy: 0.9838 - val_loss: 0.0296 - val_accuracy: 0.9896\n",
      "Epoch 5/100\n",
      "469/469 [==============================] - 95s 202ms/step - loss: 0.0487 - accuracy: 0.9846 - val_loss: 0.0319 - val_accuracy: 0.9903\n",
      "Epoch 6/100\n",
      "469/469 [==============================] - 98s 208ms/step - loss: 0.0411 - accuracy: 0.9872 - val_loss: 0.0317 - val_accuracy: 0.9894\n",
      "Epoch 7/100\n",
      "469/469 [==============================] - 90s 192ms/step - loss: 0.0344 - accuracy: 0.9893 - val_loss: 0.0285 - val_accuracy: 0.9911\n",
      "Epoch 8/100\n",
      "469/469 [==============================] - 94s 200ms/step - loss: 0.0334 - accuracy: 0.9894 - val_loss: 0.0258 - val_accuracy: 0.9919\n",
      "Epoch 9/100\n",
      "469/469 [==============================] - 86s 184ms/step - loss: 0.0277 - accuracy: 0.9914 - val_loss: 0.0327 - val_accuracy: 0.9910\n",
      "Epoch 10/100\n",
      "469/469 [==============================] - 87s 186ms/step - loss: 0.0259 - accuracy: 0.9912 - val_loss: 0.0293 - val_accuracy: 0.9910\n",
      "Epoch 11/100\n",
      "469/469 [==============================] - 87s 186ms/step - loss: 0.0243 - accuracy: 0.9918 - val_loss: 0.0261 - val_accuracy: 0.9921\n",
      "Epoch 12/100\n",
      "469/469 [==============================] - 91s 195ms/step - loss: 0.0225 - accuracy: 0.9928 - val_loss: 0.0325 - val_accuracy: 0.9902\n",
      "Epoch 13/100\n",
      "469/469 [==============================] - 89s 190ms/step - loss: 0.0199 - accuracy: 0.9935 - val_loss: 0.0279 - val_accuracy: 0.9929\n"
     ]
    }
   ],
   "source": [
    "# Train the model using the early stopping callback\n",
    "history = model.fit(train_images, train_labels, \n",
    "                    validation_data=(test_images, test_labels),\n",
    "                    epochs=epochs, batch_size=batch_size,\n",
    "                    callbacks=[monitorEarlyStop,modelCheckpoint])"
   ]
  },
  {
   "cell_type": "code",
   "execution_count": null,
   "metadata": {
    "colab": {},
    "colab_type": "code",
    "id": "lmZODITkX7Kc"
   },
   "outputs": [],
   "source": [
    "# Download the digit classification model if you're using Colab, \n",
    "download('advanced_digits_model.h5')"
   ]
  },
  {
   "cell_type": "markdown",
   "metadata": {
    "colab_type": "text",
    "id": "za35DFJ5uFkX"
   },
   "source": [
    "## Evaluate our model\n",
    "We run our digit classification model against our test dataset that the model hasn't seen during its training process. We want to confirm that the model didn't just remember the digits it saw but also generalize well to new images."
   ]
  },
  {
   "cell_type": "code",
   "execution_count": null,
   "metadata": {
    "colab": {
     "base_uri": "https://localhost:8080/",
     "height": 561
    },
    "colab_type": "code",
    "executionInfo": {
     "elapsed": 2236,
     "status": "ok",
     "timestamp": 1588640374963,
     "user": {
      "displayName": "노마드 크리에이터 Nomad Creator",
      "photoUrl": "https://lh3.googleusercontent.com/a-/AOh14GgQcI_wi3EMgN-CKlfzb5uFCxPbA1MdJ7VSb-zzTA=s64",
      "userId": "11787836200577686573"
     },
     "user_tz": -480
    },
    "id": "sJI8nqFWmMwC",
    "outputId": "3c9de84c-3c62-4645-b546-142da61ba42e"
   },
   "outputs": [],
   "source": [
    "# Evaluate the model using test dataset.\n",
    "test_loss, test_acc = model.evaluate(test_images, test_labels)\n",
    "\n",
    "print('Test accuracy:', test_acc)\n",
    "\n",
    "import matplotlib.pyplot as plt\n",
    "\n",
    "fig, loss_ax = plt.subplots()\n",
    "fig, acc_ax = plt.subplots()\n",
    "\n",
    "loss_ax.plot(history.history['loss'], 'ro', label='train loss')\n",
    "loss_ax.plot(history.history['val_loss'], 'r:', label='val loss')\n",
    "loss_ax.set_xlabel('epoch')\n",
    "loss_ax.set_ylabel('loss')\n",
    "loss_ax.legend(loc='upper left')\n",
    "\n",
    "acc_ax.plot(history.history['accuracy'], 'bo', label='train accuracy')\n",
    "acc_ax.plot(history.history['val_accuracy'], 'b:', label='val accuracy')\n",
    "acc_ax.set_ylabel('accuracy')\n",
    "acc_ax.legend(loc='upper left')\n",
    "\n",
    "plt.show()"
   ]
  },
  {
   "cell_type": "code",
   "execution_count": null,
   "metadata": {
    "colab": {
     "base_uri": "https://localhost:8080/",
     "height": 589
    },
    "colab_type": "code",
    "executionInfo": {
     "elapsed": 2310,
     "status": "ok",
     "timestamp": 1588640451286,
     "user": {
      "displayName": "노마드 크리에이터 Nomad Creator",
      "photoUrl": "https://lh3.googleusercontent.com/a-/AOh14GgQcI_wi3EMgN-CKlfzb5uFCxPbA1MdJ7VSb-zzTA=s64",
      "userId": "11787836200577686573"
     },
     "user_tz": -480
    },
    "id": "PdlXEyUImeXC",
    "outputId": "774fa6b6-08ee-43eb-91a7-faafad8d99c3"
   },
   "outputs": [],
   "source": [
    "# Predict the labels of digit images in our test dataset.\n",
    "predictions = model.predict(test_images)\n",
    "\n",
    "# Then plot the first 25 test images and their predicted labels.\n",
    "show_sample(test_images, \n",
    "            ['Predicted: %d' % np.argmax(result) for result in predictions])"
   ]
  },
  {
   "cell_type": "code",
   "execution_count": null,
   "metadata": {
    "colab": {
     "base_uri": "https://localhost:8080/",
     "height": 282
    },
    "colab_type": "code",
    "executionInfo": {
     "elapsed": 989,
     "status": "ok",
     "timestamp": 1588640486899,
     "user": {
      "displayName": "노마드 크리에이터 Nomad Creator",
      "photoUrl": "https://lh3.googleusercontent.com/a-/AOh14GgQcI_wi3EMgN-CKlfzb5uFCxPbA1MdJ7VSb-zzTA=s64",
      "userId": "11787836200577686573"
     },
     "user_tz": -480
    },
    "id": "ZqxiK8sDZ2Pw",
    "outputId": "657b2c07-2a47-46de-9d3c-b1cf130eebee"
   },
   "outputs": [],
   "source": [
    "# Predict Model\n",
    "selected_digit = 0\n",
    "\n",
    "result = predictions[selected_digit]\n",
    "result_number = np.argmax(result)\n",
    "print('Number is %2i' % (result_number))\n",
    "\n",
    "show_digit_image(test_images[selected_digit])"
   ]
  },
  {
   "cell_type": "markdown",
   "metadata": {
    "colab_type": "text",
    "id": "AWROBI4iv9fY"
   },
   "source": [
    "## Convert the Keras model to TensorFlow Lite"
   ]
  },
  {
   "cell_type": "code",
   "execution_count": null,
   "metadata": {
    "colab": {},
    "colab_type": "code",
    "id": "2fXStjR4mzkR"
   },
   "outputs": [],
   "source": [
    "# Convert Keras model to TF Lite format.\n",
    "converter = tf.lite.TFLiteConverter.from_keras_model(model)\n",
    "tflite_model = converter.convert()\n",
    "\n",
    "# Save the TF Lite model as file\n",
    "f = open('mnist.tflite', \"wb\")\n",
    "f.write(tflite_model)\n",
    "f.close()"
   ]
  },
  {
   "cell_type": "code",
   "execution_count": null,
   "metadata": {
    "colab": {},
    "colab_type": "code",
    "id": "Q_Z5yLxrwbpI"
   },
   "outputs": [],
   "source": [
    "# Download the digit classification model if you're using Colab, \n",
    "download('mnist.tflite')"
   ]
  },
  {
   "cell_type": "markdown",
   "metadata": {
    "colab_type": "text",
    "id": "3TvDxaYU2ui7"
   },
   "source": [
    "## Verify the TensorFlow Lite model"
   ]
  },
  {
   "cell_type": "code",
   "execution_count": null,
   "metadata": {
    "colab": {
     "base_uri": "https://localhost:8080/",
     "height": 188
    },
    "colab_type": "code",
    "executionInfo": {
     "elapsed": 871,
     "status": "ok",
     "timestamp": 1588640556983,
     "user": {
      "displayName": "노마드 크리에이터 Nomad Creator",
      "photoUrl": "https://lh3.googleusercontent.com/a-/AOh14GgQcI_wi3EMgN-CKlfzb5uFCxPbA1MdJ7VSb-zzTA=s64",
      "userId": "11787836200577686573"
     },
     "user_tz": -480
    },
    "id": "fFtIESwrx7cR",
    "outputId": "77ba58da-7f28-4435-b46a-48ce0bbb6419"
   },
   "outputs": [],
   "source": [
    "# Download a test image\n",
    "zero_img_path = keras.utils.get_file(\n",
    "    'zero.png', \n",
    "    'https://storage.googleapis.com/khanhlvg-public.appspot.com/digit-classifier/zero.png'\n",
    ")\n",
    "image = keras.preprocessing.image.load_img(\n",
    "    zero_img_path,\n",
    "    color_mode = 'grayscale',\n",
    "    target_size=(28, 28),\n",
    "    interpolation='bilinear'\n",
    ")\n",
    "\n",
    "# Pre-process the image: Adding batch dimension and normalize the pixel value to [0..1]\n",
    "# In training, we feed images in a batch to the model to improve training speed, making the model input shape to be (BATCH_SIZE, 28, 28).\n",
    "# For inference, we still need to match the input shape with training, so we expand the input dimensions to (1, 28, 28) using np.expand_dims\n",
    "input_image = np.expand_dims(np.array(image, dtype=np.float32) / 255.0, 0)\n",
    "\n",
    "# Show the pre-processed input image\n",
    "show_sample(input_image, ['Input Image'], 1)"
   ]
  },
  {
   "cell_type": "code",
   "execution_count": null,
   "metadata": {
    "colab": {
     "base_uri": "https://localhost:8080/",
     "height": 51
    },
    "colab_type": "code",
    "executionInfo": {
     "elapsed": 859,
     "status": "ok",
     "timestamp": 1588640599875,
     "user": {
      "displayName": "노마드 크리에이터 Nomad Creator",
      "photoUrl": "https://lh3.googleusercontent.com/a-/AOh14GgQcI_wi3EMgN-CKlfzb5uFCxPbA1MdJ7VSb-zzTA=s64",
      "userId": "11787836200577686573"
     },
     "user_tz": -480
    },
    "id": "xPtbtEJ2uacB",
    "outputId": "887aa64a-6335-4753-eefd-b570e1cb6be4"
   },
   "outputs": [],
   "source": [
    "# Run inference with TensorFlow Lite\n",
    "interpreter = tf.lite.Interpreter(model_content=tflite_model)\n",
    "interpreter.allocate_tensors()\n",
    "interpreter.set_tensor(interpreter.get_input_details()[0][\"index\"], input_image)\n",
    "interpreter.invoke()\n",
    "output = interpreter.tensor(interpreter.get_output_details()[0][\"index\"])()[0]\n",
    "\n",
    "# Print the model's classification result\n",
    "digit = np.argmax(output)\n",
    "print('Predicted Digit: %d\\nConfidence: %f' % (digit, output[digit]))"
   ]
  }
 ],
 "metadata": {
  "accelerator": "GPU",
  "anaconda-cloud": {},
  "colab": {
   "collapsed_sections": [
    "Tce3stUlHN0L"
   ],
   "name": "advanced_mnist.ipynb",
   "provenance": [
    {
     "file_id": "https://github.com/tensorflow/examples/blob/master/lite/examples/digit_classifier/ml/mnist_tflite.ipynb",
     "timestamp": 1588301956403
    }
   ],
   "toc_visible": true
  },
  "kernelspec": {
   "display_name": "Python 3",
   "language": "python",
   "name": "python3"
  },
  "language_info": {
   "codemirror_mode": {
    "name": "ipython",
    "version": 3
   },
   "file_extension": ".py",
   "mimetype": "text/x-python",
   "name": "python",
   "nbconvert_exporter": "python",
   "pygments_lexer": "ipython3",
   "version": "3.7.3"
  }
 },
 "nbformat": 4,
 "nbformat_minor": 1
}
